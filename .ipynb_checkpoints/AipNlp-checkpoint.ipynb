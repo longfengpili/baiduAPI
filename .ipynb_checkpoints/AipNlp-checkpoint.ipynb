{
 "cells": [
  {
   "cell_type": "markdown",
   "metadata": {},
   "source": [
    "[百度自然语言处理服务](https://ai.baidu.com/docs#/NLP-Python-SDK/top)"
   ]
  },
  {
   "cell_type": "code",
   "execution_count": 1,
   "metadata": {
    "ExecuteTime": {
     "end_time": "2019-04-11T00:18:17.243651Z",
     "start_time": "2019-04-11T00:18:17.231534Z"
    }
   },
   "outputs": [
    {
     "data": {
      "text/plain": [
       "<module 'mysetting' from '..\\\\mysetting.py'>"
      ]
     },
     "execution_count": 1,
     "metadata": {},
     "output_type": "execute_result"
    }
   ],
   "source": [
    "import sys\n",
    "from importlib import reload\n",
    "sys.path.append('..')\n",
    "import mysetting\n",
    "reload(mysetting)"
   ]
  },
  {
   "cell_type": "code",
   "execution_count": 2,
   "metadata": {
    "ExecuteTime": {
     "end_time": "2019-04-11T00:18:17.250643Z",
     "start_time": "2019-04-11T00:18:17.246654Z"
    }
   },
   "outputs": [],
   "source": [
    "App_Id = mysetting.voice_app_id\n",
    "API_Key = mysetting.voice_api_key\n",
    "Secret_Key = mysetting.voice_secret_key"
   ]
  },
  {
   "cell_type": "code",
   "execution_count": 3,
   "metadata": {
    "ExecuteTime": {
     "end_time": "2019-04-11T00:18:17.355404Z",
     "start_time": "2019-04-11T00:18:17.253622Z"
    }
   },
   "outputs": [],
   "source": [
    "from aip import AipNlp\n",
    "client = AipNlp(App_Id, API_Key, Secret_Key)"
   ]
  },
  {
   "cell_type": "markdown",
   "metadata": {},
   "source": [
    "# 词法分析"
   ]
  },
  {
   "cell_type": "code",
   "execution_count": 4,
   "metadata": {
    "ExecuteTime": {
     "end_time": "2019-04-11T00:18:17.649542Z",
     "start_time": "2019-04-11T00:18:17.357399Z"
    }
   },
   "outputs": [
    {
     "data": {
      "text/plain": [
       "' 调用词法分析 '"
      ]
     },
     "execution_count": 4,
     "metadata": {},
     "output_type": "execute_result"
    },
    {
     "data": {
      "text/plain": [
       "['百度', '是', '一家', '高科技', '公司']"
      ]
     },
     "execution_count": 4,
     "metadata": {},
     "output_type": "execute_result"
    }
   ],
   "source": [
    "text = \"百度是一家高科技公司\"\n",
    "\n",
    "\"\"\" 调用词法分析 \"\"\"\n",
    "words = client.lexer(text)\n",
    "[i['item'] for i in words['items']]"
   ]
  },
  {
   "cell_type": "code",
   "execution_count": 5,
   "metadata": {
    "ExecuteTime": {
     "end_time": "2019-04-11T00:18:17.669540Z",
     "start_time": "2019-04-11T00:18:17.649542Z"
    }
   },
   "outputs": [],
   "source": [
    "file = './泼辣小厨娘.txt'\n",
    "with open(file,'r',encoding='utf-8') as f:\n",
    "    note = f.read()"
   ]
  },
  {
   "cell_type": "code",
   "execution_count": 6,
   "metadata": {
    "ExecuteTime": {
     "end_time": "2019-04-11T00:18:17.677126Z",
     "start_time": "2019-04-11T00:18:17.669540Z"
    }
   },
   "outputs": [
    {
     "data": {
      "text/plain": [
       "'养市秦岭山脉深处的黑水县草甸子镇，虽然叫镇，但其实就是个大一点的村子，镇上的集市，也就一横一竖两条街而已。\\n\\n    镇里逢双开集，四里八乡的村民便绕山路而来，勉强能让这里稍微热闹一些。\\n\\n    镇子后面紧挨着一座小溪，和镇子一样，虽然也叫溪，但最浅的地方只能到脚面而已。\\n\\n    此时正值盛夏，太阳正毒，小溪旁，两个十七八岁的女孩带着一个十一二岁的女孩正蹲坐在溪水边嬉闹……\\n\\n    “石小小，我觉得你妈给你起的这名字有问题啊……”\\n\\n    “怎么有问题？”\\n\\n    “你瞧你，咱都是九年义务教育，你发育的怎么这么优秀？我严重怀疑你的腰就是被它们给拽弯的……”\\n\\n    说话的叫马天瑶，皮肤略黑，这是山里女孩的特色，但她的闺蜜石小小却完全相反，不但皮肤白皙有弹性，而且发育完全超标，胸比头大。\\n\\n    看了看石小小的，再看看自己的，马天瑶撅着嘴继续调侃。\\n\\n    “我觉得你应该叫石大大，或者叫石巨大！”\\n\\n    最右边马天瑶的妹妹马天柔大概十一二岁，刚小学毕业，调皮可爱，此刻也看了看自己的，呲着小虎牙跟着姐姐严肃的点点头附和。\\n\\n    “姐，你说的太对了，不过我觉得她应该叫石爆炸……”\\n\\n    石小小一点也不生气，反而得意的挺了挺胸，看了看四周，哼了一声，接着走下了小溪。\\n\\n    马天瑶抿嘴笑了笑，看向妹妹。\\n\\n    “天柔，走，咱俩欺负她去！。”\\n\\n    妹妹马天柔还没开口，水里的石小小捧起水先给姐妹两人浇了个透心凉心飞扬，哈哈大笑的调侃道。\\n\\n    “马天瑶，你这个学渣赶紧下来啊！”\\n\\n    “切，说的你好像不是学渣一样，敢泼我水，我看你是皮痒了！小娘子，别跑！”\\n\\n    “哈哈……”\\n\\n    马天瑶跳下去，妹妹笑着也跟着下去，随后三人光脚在水里玩闹起来。\\n\\n    “喂喂喂，咱俩比赛憋气怎么样？谁输了谁就请吃中午饭？”\\n\\n    “好啊，谁怕谁，为了中午饭我能憋死自己你信不信？”\\n\\n    石小小提议，马天瑶跟着附议，马天柔笑着举手。\\n\\n    “那我来当裁判！预备！开始！”\\n\\n    马天柔笑着喊出开始，两女立刻捏着鼻子开始在水里憋气！\\n\\n    山里的孩子最基本的技能就是游泳，憋气只是小儿科，但，是人就有极限，所以等马天柔数到45'"
      ]
     },
     "execution_count": 6,
     "metadata": {},
     "output_type": "execute_result"
    }
   ],
   "source": [
    "note_ = note[50:1000]\n",
    "note_"
   ]
  },
  {
   "cell_type": "code",
   "execution_count": 7,
   "metadata": {
    "ExecuteTime": {
     "end_time": "2019-04-11T00:18:17.941558Z",
     "start_time": "2019-04-11T00:18:17.681115Z"
    }
   },
   "outputs": [
    {
     "data": {
      "text/plain": [
       "['\\n\\n    ', '\\n\\n    ', '石爆炸', '石小小', '小娘子', '\\n\\n    ']"
      ]
     },
     "execution_count": 7,
     "metadata": {},
     "output_type": "execute_result"
    }
   ],
   "source": [
    "words = client.lexer(note_)\n",
    "[i['item'] for i in words['items'] if i['pos'] == 'nr']"
   ]
  },
  {
   "cell_type": "code",
   "execution_count": 8,
   "metadata": {
    "ExecuteTime": {
     "end_time": "2019-04-11T00:18:18.248546Z",
     "start_time": "2019-04-11T00:18:17.944551Z"
    }
   },
   "outputs": [
    {
     "data": {
      "text/plain": [
       "' 调用对话情绪识别接口 '"
      ]
     },
     "execution_count": 8,
     "metadata": {},
     "output_type": "execute_result"
    },
    {
     "data": {
      "text/plain": [
       "{'log_id': 7426131230872694731,\n",
       " 'text': '本来今天高高兴兴',\n",
       " 'items': [{'subitems': [{'prob': 0.501008, 'label': 'happy'}],\n",
       "   'replies': ['笑得真可爱'],\n",
       "   'prob': 0.501008,\n",
       "   'label': 'optimistic'},\n",
       "  {'subitems': [], 'replies': [], 'prob': 0.49872, 'label': 'neutral'},\n",
       "  {'subitems': [],\n",
       "   'replies': [],\n",
       "   'prob': 0.000272128,\n",
       "   'label': 'pessimistic'}]}"
      ]
     },
     "execution_count": 8,
     "metadata": {},
     "output_type": "execute_result"
    },
    {
     "data": {
      "text/plain": [
       "' 如果有可选参数 '"
      ]
     },
     "execution_count": 8,
     "metadata": {},
     "output_type": "execute_result"
    },
    {
     "data": {
      "text/plain": [
       "' 带参数调用对话情绪识别接口 '"
      ]
     },
     "execution_count": 8,
     "metadata": {},
     "output_type": "execute_result"
    },
    {
     "data": {
      "text/plain": [
       "{'log_id': 3304777621531020587,\n",
       " 'text': '本来今天高高兴兴',\n",
       " 'items': [{'subitems': [{'prob': 0.501008, 'label': 'happy'}],\n",
       "   'replies': ['笑得真可爱'],\n",
       "   'prob': 0.501008,\n",
       "   'label': 'optimistic'},\n",
       "  {'subitems': [], 'replies': [], 'prob': 0.49872, 'label': 'neutral'},\n",
       "  {'subitems': [],\n",
       "   'replies': [],\n",
       "   'prob': 0.000272128,\n",
       "   'label': 'pessimistic'}]}"
      ]
     },
     "execution_count": 8,
     "metadata": {},
     "output_type": "execute_result"
    }
   ],
   "source": [
    "text = \"本来今天高高兴兴\"\n",
    "\n",
    "\"\"\" 调用对话情绪识别接口 \"\"\"\n",
    "client.emotion(text)\n",
    "\n",
    "\"\"\" 如果有可选参数 \"\"\"\n",
    "options = {}\n",
    "options[\"scene\"] = \"talk\"\n",
    "\n",
    "\"\"\" 带参数调用对话情绪识别接口 \"\"\"\n",
    "client.emotion(text, options)\n"
   ]
  },
  {
   "cell_type": "code",
   "execution_count": 9,
   "metadata": {
    "ExecuteTime": {
     "end_time": "2019-04-11T00:18:18.687004Z",
     "start_time": "2019-04-11T00:18:18.251576Z"
    }
   },
   "outputs": [
    {
     "data": {
      "text/plain": [
       "' 调用评论观点抽取 '"
      ]
     },
     "execution_count": 9,
     "metadata": {},
     "output_type": "execute_result"
    },
    {
     "data": {
      "text/plain": [
       "{'log_id': 1833796624451466475, 'items': []}"
      ]
     },
     "execution_count": 9,
     "metadata": {},
     "output_type": "execute_result"
    },
    {
     "data": {
      "text/plain": [
       "' 如果有可选参数 '"
      ]
     },
     "execution_count": 9,
     "metadata": {},
     "output_type": "execute_result"
    },
    {
     "data": {
      "text/plain": [
       "' 带参数调用评论观点抽取 '"
      ]
     },
     "execution_count": 9,
     "metadata": {},
     "output_type": "execute_result"
    },
    {
     "data": {
      "text/plain": [
       "{'log_id': 8561596576029302027,\n",
       " 'items': [{'sentiment': 0,\n",
       "   'abstract': '三星电脑<span>电池不给力</span>',\n",
       "   'prop': '电池',\n",
       "   'begin_pos': 8,\n",
       "   'end_pos': 18,\n",
       "   'adj': '不给力'}]}"
      ]
     },
     "execution_count": 9,
     "metadata": {},
     "output_type": "execute_result"
    }
   ],
   "source": [
    "text = \"三星电脑电池不给力\"\n",
    "\n",
    "\"\"\" 调用评论观点抽取 \"\"\"\n",
    "client.commentTag(text)\n",
    "\n",
    "\"\"\" 如果有可选参数 \"\"\"\n",
    "options = {}\n",
    "options[\"type\"] = 13\n",
    "\n",
    "\"\"\" 带参数调用评论观点抽取 \"\"\"\n",
    "client.commentTag(text, options)\n"
   ]
  },
  {
   "cell_type": "markdown",
   "metadata": {},
   "source": [
    "=============================泼辣小厨娘=========================================="
   ]
  },
  {
   "cell_type": "code",
   "execution_count": 1,
   "metadata": {
    "ExecuteTime": {
     "end_time": "2019-04-11T01:07:06.370836Z",
     "start_time": "2019-04-11T01:07:06.254886Z"
    }
   },
   "outputs": [
    {
     "data": {
      "text/plain": [
       "<module 'mysetting' from '..\\\\mysetting.py'>"
      ]
     },
     "execution_count": 1,
     "metadata": {},
     "output_type": "execute_result"
    }
   ],
   "source": [
    "import sys\n",
    "from importlib import reload\n",
    "sys.path.append('..')\n",
    "import mysetting\n",
    "reload(mysetting)\n",
    "\n",
    "App_Id = mysetting.voice_app_id\n",
    "API_Key = mysetting.voice_api_key\n",
    "Secret_Key = mysetting.voice_secret_key\n",
    "\n",
    "from aip import AipNlp\n",
    "client = AipNlp(App_Id, API_Key, Secret_Key)"
   ]
  },
  {
   "cell_type": "code",
   "execution_count": 2,
   "metadata": {
    "ExecuteTime": {
     "end_time": "2019-04-11T01:07:07.016221Z",
     "start_time": "2019-04-11T01:07:06.998833Z"
    }
   },
   "outputs": [
    {
     "data": {
      "text/plain": [
       "'\\n|------------\\n|\\n|正文卷\\n|\\n|\\n|------------\\n|\\n|第一章 人工呼吸\\n|\\n|    仙养市秦岭山脉深处的黑水县草甸子镇，虽然叫镇，但其实就是个大一点的村子，镇上的集市，也就一横一竖两条街而已。\\n|\\n|    镇里逢双开集，四里八乡的村民便绕山路而来，勉强能让这里稍微热闹一些。\\n|\\n|    镇子后面紧挨着一座小溪，和镇子一样，虽然也叫溪，但最浅的地方只能到脚面而已。\\n|\\n|    此时正值盛夏，太阳正毒，小溪旁，两个十七八岁的女孩带着一个十一二岁的女孩正蹲坐在溪水边嬉闹……\\n|\\n|    “石小小，我觉得你妈给你起的这名字有问题啊……”\\n|\\n|    “怎么有问题？”\\n|\\n|    “你瞧你，咱都是九年义务教育，你发育的怎么这么优秀？我严重怀疑你的腰就是被它们给拽弯的……”\\n|\\n|    说话的叫马天瑶，皮肤略黑，这是山里女孩的特色，但她的闺蜜石小小却完全相反，不但皮肤白皙有弹性，而且发育完全超标，胸比头大。\\n|\\n|    看了看石小小的，再看看自己的，马天瑶撅着嘴继续调侃。\\n|\\n|    “我觉得你应该叫石大大，或者叫石巨大！”\\n|\\n|    最右边马天瑶的妹妹马天柔大概十一二岁，刚小学毕业，调皮可爱，此刻也看了看自己的，呲着小虎牙跟着姐姐严肃的点点头附和。\\n|\\n|    “姐，你说的太对了，不过我觉得她应该叫石爆炸……”\\n|\\n|    石小小一点也不生气，反而得意的挺了挺胸，看了看四周，哼了一声，接着走下了小溪。\\n|\\n|    马天瑶抿嘴笑了笑，看向妹妹。\\n|\\n|    “天柔，走，咱俩欺负她去！。”\\n|\\n|    妹妹马天柔还没开口，水里的石小小捧起水先给姐妹两人浇了个透心凉心飞扬，哈哈大笑的调侃道。\\n|\\n|    “马天瑶，你这个学渣赶紧下来啊！”\\n|\\n|    “切，说的你好像不是学渣一样，敢泼我水，我看你是皮痒了！小娘子，别跑！”\\n|\\n|    “哈哈……”\\n|\\n|    马天瑶跳下去，妹妹笑着也跟着下去，随后三人光脚在水里玩闹起来。\\n|\\n|    “喂喂喂，咱俩比赛憋气怎么样？谁输了谁就请吃中午饭？”\\n|\\n|    “好啊，谁怕谁，为了中午饭我能憋死自己你信不信？”\\n|\\n|    石小小提议，马天瑶跟着附议，马天柔笑着举手。\\n|\\n|    “那我来当裁判！预备！开始！”\\n|\\n|    马天柔笑着喊出开始，两女立刻捏着鼻'"
      ]
     },
     "execution_count": 2,
     "metadata": {},
     "output_type": "execute_result"
    }
   ],
   "source": [
    "file = './泼辣小厨娘.txt'\n",
    "with open(file,'r',encoding='utf-8') as f:\n",
    "    note = f.readlines()\n",
    "    \n",
    "note = note[:1000]\n",
    "    \n",
    "note_chunks_1 = [note[i*100:(i+1)*100] for i in range(int(len(note)/100))]\n",
    "note_chunks_2 = ['|'.join(i) for i in note_chunks_1]\n",
    "note_chunks_2[0][:1000]"
   ]
  },
  {
   "cell_type": "code",
   "execution_count": 4,
   "metadata": {
    "ExecuteTime": {
     "end_time": "2019-04-11T01:08:14.257219Z",
     "start_time": "2019-04-11T01:07:56.132261Z"
    },
    "scrolled": false
   },
   "outputs": [
    {
     "data": {
      "text/plain": [
       "'\\n|------------\\n|\\n|正文卷\\n|\\n|\\n|------------\\n|\\n|第一章 人工呼吸\\n|\\n|    仙养市秦岭山脉深处的黑水县草甸子镇，虽然叫镇，但其实就是个大一点的村子，镇上的集市'"
      ]
     },
     "execution_count": 4,
     "metadata": {},
     "output_type": "execute_result"
    },
    {
     "name": "stdout",
     "output_type": "stream",
     "text": [
      "累计用时2,note_row{'row': 100, 'str_num': 1423}\n",
      "[('马天瑶', 9), ('马天柔', 9), ('石小小', 5), ('石大大', 1)]\n"
     ]
    },
    {
     "data": {
      "text/plain": [
       "'    “啊？干嘛啊？”\\n|\\n|    “这样她能凉的能慢一点……”\\n|\\n|    “啊？你怎么这样啊，我姐都这样你还开玩笑……呜呜呜……”\\n|\\n|    马天柔一哭，石小小立刻就正经了，干笑着搓着手'"
      ]
     },
     "execution_count": 4,
     "metadata": {},
     "output_type": "execute_result"
    },
    {
     "name": "stdout",
     "output_type": "stream",
     "text": [
      "累计用时5,note_row{'row': 200, 'str_num': 2301}\n",
      "[('马天瑶', 14), ('马天柔', 13), ('石小小', 7), ('石大大', 1)]\n"
     ]
    },
    {
     "data": {
      "text/plain": [
       "'\\n|    “赢了，你还真说道做到要把自己憋死啊，我算服了你了，这饭请的不冤。”\\n|\\n|    “那还等什么？走，吃大餐去，石爆炸，今天我要吃到你原地爆炸！”\\n|\\n|    哼了一声，马天瑶起来拍了拍'"
      ]
     },
     "execution_count": 4,
     "metadata": {},
     "output_type": "execute_result"
    },
    {
     "name": "stdout",
     "output_type": "stream",
     "text": [
      "累计用时6,note_row{'row': 300, 'str_num': 3844}\n",
      "[('马天瑶', 29), ('马天柔', 17), ('石小小', 8), ('石大大', 1), ('黑子', 1), ('不信邪', 1)]\n"
     ]
    },
    {
     "data": {
      "text/plain": [
       "'\\n|    呲啦！\\n|\\n|    “啊啊啊啊啊啊……系统你大爷，不是说好的尊重我的个人意愿吗？”\\n|\\n|    【系统检测出宿主饥饿度过低，防止宿主饿晕，自动开启电击治疗系统……】\\n|\\n|    马天'"
      ]
     },
     "execution_count": 4,
     "metadata": {},
     "output_type": "execute_result"
    },
    {
     "name": "stdout",
     "output_type": "stream",
     "text": [
      "累计用时8,note_row{'row': 400, 'str_num': 4879}\n",
      "[('马天瑶', 36), ('马天柔', 18), ('石小小', 8), ('石大大', 1), ('黑子', 1), ('不信邪', 1), ('瑶瑶', 1)]\n"
     ]
    },
    {
     "data": {
      "text/plain": [
       "'    “我曹……又来……啊啊啊啊啊啊……”\\n|\\n|    马天瑶再一次被电抽了。\\n|\\n|    等缓过来，她才注意到刚才系统说的经验值的问题，并且仔细查看了系统提示的23条白粥熬煮的错误之处。\\n|\\n'"
      ]
     },
     "execution_count": 4,
     "metadata": {},
     "output_type": "execute_result"
    },
    {
     "name": "stdout",
     "output_type": "stream",
     "text": [
      "累计用时9,note_row{'row': 500, 'str_num': 5985}\n",
      "[('马天瑶', 45), ('马天柔', 19), ('石小小', 8), ('石大大', 1), ('黑子', 1), ('不信邪', 1), ('瑶瑶', 1), ('贡米', 1)]\n"
     ]
    },
    {
     "data": {
      "text/plain": [
       "'\\n|    这是最难的，因为这个距离要根据你熬煮的时间长短或增或减。\\n|\\n|    大火快熬或者小火慢炖，出来的口感都不相同，这也就是系统所说的火候。\\n|\\n|    除此外还有最关键的，米和水。\\n|\\n'"
      ]
     },
     "execution_count": 4,
     "metadata": {},
     "output_type": "execute_result"
    },
    {
     "name": "stdout",
     "output_type": "stream",
     "text": [
      "累计用时11,note_row{'row': 600, 'str_num': 7434}\n",
      "[('马天瑶', 53), ('马天柔', 19), ('石小小', 14), ('马家凹', 2), ('石大大', 1), ('黑子', 1), ('不信邪', 1), ('瑶瑶', 1), ('贡米', 1), ('杨树林', 1)]\n"
     ]
    },
    {
     "data": {
      "text/plain": [
       "'\\n|    所以她只能拼命跑，一直跑到了草甸子镇，然后直接掉头，啊啊啊叫着又朝回跑，后面跟着她跑的一群拉练的新兵全傻了。\\n|\\n|    “我去……这么能跑啊？”\\n|\\n|    “虽然五公里，但这可是山'"
      ]
     },
     "execution_count": 4,
     "metadata": {},
     "output_type": "execute_result"
    },
    {
     "name": "stdout",
     "output_type": "stream",
     "text": [
      "累计用时13,note_row{'row': 700, 'str_num': 8337}\n",
      "[('马天瑶', 57), ('马天柔', 19), ('石小小', 14), ('马家凹', 2), ('杨树林', 2), ('石大大', 1), ('黑子', 1), ('不信邪', 1), ('瑶瑶', 1), ('贡米', 1)]\n"
     ]
    },
    {
     "data": {
      "text/plain": [
       "'    回到家坐在厨房喝稀饭的时候，不用系统放电，她抖的根本碗都端不住，手上烂了一层，用血肉模糊一点也不为过。\\n|\\n|    不过让她激动的是，这MMP的系统倒也能做点人事，提示帮她恢复，结果命令刚结'"
      ]
     },
     "execution_count": 4,
     "metadata": {},
     "output_type": "execute_result"
    },
    {
     "name": "stdout",
     "output_type": "stream",
     "text": [
      "累计用时14,note_row{'row': 800, 'str_num': 9776}\n",
      "[('马天瑶', 63), ('马天柔', 23), ('石小小', 16), ('马家凹', 2), ('杨树林', 2), ('石大大', 1), ('黑子', 1), ('不信邪', 1), ('瑶瑶', 1), ('贡米', 1), ('马天', 1), ('钱花光', 1)]\n"
     ]
    },
    {
     "data": {
      "text/plain": [
       "'\\n|    检查了一下经验点，她神奇的发现，10000点经验值，似乎并不是不能完成，而刚才的情况，更让她陷入了沉思。\\n|\\n|    “现在看来，这个经验点的获得……似乎除了做菜的关键点之外，还涉及到做'"
      ]
     },
     "execution_count": 4,
     "metadata": {},
     "output_type": "execute_result"
    },
    {
     "name": "stdout",
     "output_type": "stream",
     "text": [
      "累计用时16,note_row{'row': 900, 'str_num': 11162}\n",
      "[('马天瑶', 68), ('马天柔', 23), ('石小小', 20), ('马家凹', 2), ('杨树林', 2), ('石大大', 1), ('黑子', 1), ('不信邪', 1), ('瑶瑶', 1), ('贡米', 1), ('马天', 1), ('钱花光', 1), ('莫若母', 1)]\n"
     ]
    },
    {
     "data": {
      "text/plain": [
       "'\\n|    ……\\n|------------\\n|\\n|第七章 走回去\\n|\\n|    马天瑶一路跑到镇上，刚赶上去县里最后的一趟车，草甸子镇距离县城大概十五公里，线路车五块钱一个人，大概三十分钟能到。\\n|'"
      ]
     },
     "execution_count": 4,
     "metadata": {},
     "output_type": "execute_result"
    },
    {
     "name": "stdout",
     "output_type": "stream",
     "text": [
      "累计用时18,note_row{'row': 1000, 'str_num': 12533}\n",
      "[('马天瑶', 78), ('石小小', 27), ('马天柔', 26), ('马家凹', 2), ('杨树林', 2), ('石大大', 1), ('黑子', 1), ('不信邪', 1), ('瑶瑶', 1), ('贡米', 1), ('马天', 1), ('钱花光', 1), ('莫若母', 1)]\n"
     ]
    }
   ],
   "source": [
    "import threading\n",
    "import random\n",
    "import time\n",
    "from datetime import datetime\n",
    "\n",
    "lock = threading.Lock()\n",
    "\n",
    "def str_count(str):\n",
    "    str_num = 0\n",
    "    for s in str:\n",
    "        # 中文字符范围\n",
    "        if '\\u4e00' <= s <= '\\u9fff':\n",
    "            str_num += 1\n",
    "    return str_num\n",
    "\n",
    "def text_strip(textlist):\n",
    "    new_textlist = []\n",
    "    for i in textlist:\n",
    "        if i.strip():\n",
    "            new_textlist.append(i)\n",
    "    return new_textlist\n",
    "\n",
    "def find_names(text):\n",
    "    global name\n",
    "\n",
    "#     print(f'text:{text}')\n",
    "    \n",
    "    try:\n",
    "        \n",
    "        with lock:\n",
    "            time.sleep(random.random()*3)\n",
    "            words = client.lexer(text)\n",
    "#         print(words)\n",
    "        if 'items' in words:\n",
    "            names = [i['item'].strip() for i in words['items'] if i['ne'] == 'PER' if i['item'].strip()]\n",
    "            \n",
    "            if names:\n",
    "#                 print(f'names:{names}')\n",
    "                pass\n",
    "        \n",
    "        for i in names:\n",
    "            with lock:\n",
    "                name[i] = name.get(i,0)\n",
    "                name[i] += 1\n",
    "    except Exception as e:\n",
    "        print(e)\n",
    "#         print(text)\n",
    "        \n",
    "\n",
    "\n",
    "\n",
    "name = {}\n",
    "st = datetime.now()\n",
    "note_row = {'row':0,'str_num':0}\n",
    "for note_chunk in note_chunks_2:\n",
    "    note_chunk[:100]\n",
    "    treadlist = []\n",
    "    \n",
    "    str_num = str_count(note_chunk)\n",
    "    rows = len(note_chunk.split('|'))\n",
    "    note_row['row'] += rows\n",
    "    note_row['str_num'] += str_num\n",
    "    t = threading.Thread(target=find_names,args=(note_chunk,))\n",
    "    treadlist.append(t)\n",
    "\n",
    "    for t in treadlist:\n",
    "        t.start()\n",
    "#         t.join()\n",
    "\n",
    "    for t in treadlist:\n",
    "        t.join()\n",
    "\n",
    "    et = datetime.now()\n",
    "    interval = (et - st).seconds\n",
    "    print(f'累计用时{interval},note_row{note_row}')\n",
    "    print(sorted(name.items(), key=lambda kv: kv[1],reverse=True))\n"
   ]
  },
  {
   "cell_type": "code",
   "execution_count": null,
   "metadata": {},
   "outputs": [],
   "source": []
  }
 ],
 "metadata": {
  "hide_input": false,
  "kernelspec": {
   "display_name": "Python 3",
   "language": "python",
   "name": "python3"
  },
  "language_info": {
   "codemirror_mode": {
    "name": "ipython",
    "version": 3
   },
   "file_extension": ".py",
   "mimetype": "text/x-python",
   "name": "python",
   "nbconvert_exporter": "python",
   "pygments_lexer": "ipython3",
   "version": "3.7.0"
  },
  "toc": {
   "base_numbering": 1,
   "nav_menu": {},
   "number_sections": true,
   "sideBar": true,
   "skip_h1_title": false,
   "title_cell": "Table of Contents",
   "title_sidebar": "Contents",
   "toc_cell": false,
   "toc_position": {},
   "toc_section_display": true,
   "toc_window_display": false
  },
  "varInspector": {
   "cols": {
    "lenName": 16,
    "lenType": 16,
    "lenVar": 40
   },
   "kernels_config": {
    "python": {
     "delete_cmd_postfix": "",
     "delete_cmd_prefix": "del ",
     "library": "var_list.py",
     "varRefreshCmd": "print(var_dic_list())"
    },
    "r": {
     "delete_cmd_postfix": ") ",
     "delete_cmd_prefix": "rm(",
     "library": "var_list.r",
     "varRefreshCmd": "cat(var_dic_list()) "
    }
   },
   "position": {
    "height": "670px",
    "left": "1545px",
    "right": "20px",
    "top": "120px",
    "width": "355px"
   },
   "types_to_exclude": [
    "module",
    "function",
    "builtin_function_or_method",
    "instance",
    "_Feature"
   ],
   "window_display": false
  }
 },
 "nbformat": 4,
 "nbformat_minor": 2
}
