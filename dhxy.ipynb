{
 "cells": [
  {
   "cell_type": "code",
   "execution_count": 1,
   "metadata": {
    "ExecuteTime": {
     "end_time": "2018-12-15T13:01:34.288851Z",
     "start_time": "2018-12-15T13:01:34.278692Z"
    }
   },
   "outputs": [],
   "source": [
    "# 任务位置  1600，280   1800，340\n",
    "first_task_box = [1550,260,1850,360]\n"
   ]
  },
  {
   "cell_type": "code",
   "execution_count": 20,
   "metadata": {
    "ExecuteTime": {
     "end_time": "2018-12-16T08:19:35.469859Z",
     "start_time": "2018-12-16T08:19:35.461782Z"
    }
   },
   "outputs": [],
   "source": [
    "import os\n",
    "import random\n",
    "from datetime import datetime,date\n",
    "import time\n",
    "\n",
    "def tap_screen(x, y):\n",
    "    os.system('adb shell input tap {} {}'.format(x, y))\n",
    "\n",
    "def screen_position(box):\n",
    "    x1,y1,x2,y2 = box\n",
    "    x = random.randint(x1,x2)\n",
    "    y = random.randint(y1,y2)\n",
    "    return x,y\n",
    "\n",
    "def swipe_screen():\n",
    "    x = random.randint(600,1500)\n",
    "    y = random.randint(600,750)\n",
    "    swipe = random.randint(100,200)\n",
    "    time.sleep(random.random() * 2)\n",
    "    os.system(f\"adb shell input swipe {x} {y} {x} {y - swipe}\")\n",
    "\n",
    "def mkdir_for_screenshot(dir='dhxy_xu'):\n",
    "    dir_p = os.popen(f\"adb shell ls /mnt/sdcard/ |findstr {dir}\").read()\n",
    "    if dir_p:\n",
    "        print(f'{dir_p}exists!')\n",
    "    else:\n",
    "        print('mkdir!')\n",
    "        os.system(f'adb shell mkdir /mnt/sdcard/{dir}/')\n",
    "\n",
    "def pull_screenshot(dir=None,filename=None):\n",
    "    if not filename:\n",
    "        filename = datetime.now().strftime('%Y_%m_%d_%H%M%S')\n",
    "    if not dir:\n",
    "        dir = 'pic'\n",
    "        \n",
    "    screenshot = os.system(f'adb shell screencap -p /mnt/sdcard/dhxy_xu/{filename}.png')\n",
    "    os.system(f'adb pull /mnt/sdcard/dhxy_xu/{filename}.png ./taskpic/{dir}/ 1>nul')   "
   ]
  },
  {
   "cell_type": "code",
   "execution_count": 3,
   "metadata": {
    "ExecuteTime": {
     "end_time": "2018-12-12T00:11:18.668092Z",
     "start_time": "2018-12-12T00:11:18.037207Z"
    }
   },
   "outputs": [],
   "source": [
    "x,y = screen_position(box=first_task_box)\n",
    "tap_screen(x,y)"
   ]
  },
  {
   "cell_type": "code",
   "execution_count": 6,
   "metadata": {
    "ExecuteTime": {
     "end_time": "2018-12-12T00:11:50.667822Z",
     "start_time": "2018-12-12T00:11:49.799370Z"
    }
   },
   "outputs": [],
   "source": [
    "swipe_screen()"
   ]
  },
  {
   "cell_type": "code",
   "execution_count": 29,
   "metadata": {
    "ExecuteTime": {
     "end_time": "2018-12-16T13:44:54.747652Z",
     "start_time": "2018-12-16T13:44:52.493527Z"
    }
   },
   "outputs": [],
   "source": [
    "pull_screenshot('renwulian','0_temp')"
   ]
  },
  {
   "cell_type": "code",
   "execution_count": 6,
   "metadata": {
    "ExecuteTime": {
     "end_time": "2018-12-15T01:53:12.216348Z",
     "start_time": "2018-12-15T01:53:12.211361Z"
    }
   },
   "outputs": [],
   "source": [
    "from PIL import Image\n",
    "img1 = Image.open('./taskpic/pic/tasklist_2.png')\n",
    "img2 = Image.open('./taskpic/bangpai/0_box.png')\n"
   ]
  },
  {
   "cell_type": "code",
   "execution_count": 115,
   "metadata": {
    "ExecuteTime": {
     "end_time": "2018-12-15T10:56:07.180416Z",
     "start_time": "2018-12-15T10:56:07.162461Z"
    }
   },
   "outputs": [
    {
     "name": "stdout",
     "output_type": "stream",
     "text": [
      "{'result': (347.5, 87.5), 'rectangle': ((0, 0), (0, 175), (695, 0), (695, 175)), 'confidence': 0.5228539109230042}\n"
     ]
    }
   ],
   "source": [
    "import cv2\n",
    "import aircv as ac\n",
    "\n",
    "\n",
    "img1 = ac.imread('./taskpic/box/0_5h.png')\n",
    "img2 = ac.imread('./taskpic/bangpai/0_bp.png')\n",
    "\n",
    "# find the match position\n",
    "pos = ac.find_template(img1, img2)\n",
    "print(pos)\n"
   ]
  },
  {
   "cell_type": "code",
   "execution_count": 89,
   "metadata": {
    "ExecuteTime": {
     "end_time": "2018-12-15T07:20:35.707782Z",
     "start_time": "2018-12-15T07:20:35.700755Z"
    }
   },
   "outputs": [],
   "source": [
    "import cv2\n",
    "import aircv as ac\n",
    "def find_pic_pos(imgpath1,imgpath2):\n",
    "    img1 = ac.imread(imgpath1)\n",
    "    img2 = ac.imread(imgpath2)\n",
    "    # cv2.imshow('img1',img2)\n",
    "    # cv2.waitKey(0)\n",
    "    pos = ac.find_template(img1,img2)\n",
    "    if not pos:\n",
    "        pos = {'rectangle':((0,0),(0,0)),'confidence':0}\n",
    "    else:\n",
    "        pos.pop('result')\n",
    "        pos['rectangle'] = [i for t in pos['rectangle'][::3] for i in t]\n",
    "\n",
    "    return pos"
   ]
  },
  {
   "cell_type": "code",
   "execution_count": 96,
   "metadata": {
    "ExecuteTime": {
     "end_time": "2018-12-15T07:27:11.772565Z",
     "start_time": "2018-12-15T07:27:09.222280Z"
    }
   },
   "outputs": [
    {
     "name": "stdout",
     "output_type": "stream",
     "text": [
      "0_cbt.png 0_cbt.png {'rectangle': [0, 0, 695, 175], 'confidence': 0.9999980926513672}\n",
      "0_dls.png 0_dls.png {'rectangle': [0, 0, 695, 175], 'confidence': 0.9999988675117493}\n",
      "0_dyt.png 0_dyt.png {'rectangle': [0, 0, 695, 175], 'confidence': 0.9999999403953552}\n",
      "0_dyt.png 0_xf.png {'rectangle': [0, 0, 695, 175], 'confidence': 0.9026683568954468}\n",
      "0_tjxy.png 0_tjxy.png {'rectangle': [0, 0, 695, 175], 'confidence': 0.9999979138374329}\n",
      "0_xf.png 0_dyt.png {'rectangle': [0, 0, 695, 175], 'confidence': 0.9026683568954468}\n",
      "0_xf.png 0_xf.png {'rectangle': [0, 0, 695, 175], 'confidence': 0.9999979734420776}\n"
     ]
    }
   ],
   "source": [
    "for root,dirpath,filepath in os.walk('./taskpic/box/'):\n",
    "    for i in filepath:\n",
    "        for j in filepath:\n",
    "            i_path = root + i\n",
    "            j_path = root + j\n",
    "            pos = find_pic_pos(i_path,j_path)\n",
    "            if pos['confidence'] >= 0.9 and pos['confidence'] < 1:\n",
    "                print(i,j,pos)"
   ]
  },
  {
   "cell_type": "code",
   "execution_count": null,
   "metadata": {},
   "outputs": [],
   "source": []
  },
  {
   "cell_type": "code",
   "execution_count": null,
   "metadata": {
    "ExecuteTime": {
     "end_time": "2018-12-11T00:20:05.162766Z",
     "start_time": "2018-12-11T00:20:05.015Z"
    }
   },
   "outputs": [],
   "source": [
    "from PIL import Image\n",
    "img = Image.open('./pic/question2.png')\n",
    "# 1530,260   1890,310\n",
    "new_img = img.crop(box=first_task_box)\n",
    "new_img_path = img.filename[:-4] + 't' + img.filename[-4:]\n",
    "new_img\n",
    "new_img.save(new_img_path)"
   ]
  },
  {
   "cell_type": "code",
   "execution_count": null,
   "metadata": {
    "ExecuteTime": {
     "end_time": "2018-12-11T00:20:05.163262Z",
     "start_time": "2018-12-11T00:20:05.020Z"
    }
   },
   "outputs": [],
   "source": [
    "mkdir_for_screenshot()"
   ]
  },
  {
   "cell_type": "code",
   "execution_count": null,
   "metadata": {
    "ExecuteTime": {
     "end_time": "2018-12-11T00:20:05.164255Z",
     "start_time": "2018-12-11T00:20:05.024Z"
    }
   },
   "outputs": [],
   "source": [
    "import sys\n",
    "from importlib import reload\n",
    "sys.path.append('..')\n",
    "import mysetting\n",
    "reload(mysetting)"
   ]
  },
  {
   "cell_type": "code",
   "execution_count": null,
   "metadata": {
    "ExecuteTime": {
     "end_time": "2018-12-11T00:20:05.165246Z",
     "start_time": "2018-12-11T00:20:05.026Z"
    }
   },
   "outputs": [],
   "source": [
    "from aip import AipOcr\n",
    "\n",
    "App_Id = mysetting.voice_app_id\n",
    "API_Key = mysetting.voice_api_key\n",
    "Secret_Key = mysetting.voice_secret_key\n",
    "\n",
    "client = AipOcr(App_Id, API_Key, Secret_Key)"
   ]
  },
  {
   "cell_type": "code",
   "execution_count": null,
   "metadata": {
    "ExecuteTime": {
     "end_time": "2018-12-11T00:20:05.165742Z",
     "start_time": "2018-12-11T00:20:05.029Z"
    }
   },
   "outputs": [],
   "source": [
    "\"\"\" 读取图片 \"\"\"\n",
    "def get_file_content(filePath):\n",
    "    with open(filePath, 'rb') as fp:\n",
    "        return fp.read()\n",
    "\n",
    "image = get_file_content('./pic/test.png')\n",
    "words = client.general(image)\n",
    "words\n",
    "[i['words'] for i in words['words_result']]"
   ]
  },
  {
   "cell_type": "code",
   "execution_count": null,
   "metadata": {
    "ExecuteTime": {
     "end_time": "2018-12-11T00:20:05.166736Z",
     "start_time": "2018-12-11T00:20:05.031Z"
    }
   },
   "outputs": [],
   "source": [
    "a_box = [870,170,1040,220]"
   ]
  },
  {
   "cell_type": "code",
   "execution_count": null,
   "metadata": {
    "ExecuteTime": {
     "end_time": "2018-12-11T00:20:05.168223Z",
     "start_time": "2018-12-11T00:20:05.034Z"
    }
   },
   "outputs": [],
   "source": [
    "from PIL import Image\n",
    "img = Image.open('./pic/shici.png')\n",
    "# 1530,260   1890,310\n",
    "new_img = img.crop(box=a_box)\n",
    "new_img_path = img.filename[:-4] + '_t' + img.filename[-4:]\n",
    "new_img\n",
    "new_img.save(new_img_path)\n",
    "\"\"\" 读取图片 \"\"\"\n",
    "def get_file_content(filePath):\n",
    "    with open(filePath, 'rb') as fp:\n",
    "        return fp.read()\n",
    "\n",
    "image = get_file_content('./pic/shici_t.png')\n",
    "words = client.general(image)\n",
    "words\n",
    "[i['words'] for i in words['words_result']]"
   ]
  },
  {
   "cell_type": "code",
   "execution_count": 16,
   "metadata": {
    "ExecuteTime": {
     "end_time": "2018-12-13T01:00:36.611585Z",
     "start_time": "2018-12-13T01:00:36.602610Z"
    }
   },
   "outputs": [
    {
     "data": {
      "text/plain": [
       "(0, 12)"
      ]
     },
     "execution_count": 16,
     "metadata": {},
     "output_type": "execute_result"
    },
    {
     "data": {
      "text/plain": [
       "(1, 12)"
      ]
     },
     "execution_count": 16,
     "metadata": {},
     "output_type": "execute_result"
    },
    {
     "data": {
      "text/plain": [
       "(2, 323)"
      ]
     },
     "execution_count": 16,
     "metadata": {},
     "output_type": "execute_result"
    }
   ],
   "source": [
    "i = [12,12,323]\n",
    "for index,j in enumerate(i):\n",
    "    "
   ]
  },
  {
   "cell_type": "code",
   "execution_count": 17,
   "metadata": {
    "ExecuteTime": {
     "end_time": "2018-12-13T01:12:50.831955Z",
     "start_time": "2018-12-13T01:12:50.826968Z"
    }
   },
   "outputs": [],
   "source": [
    "k = dict(a=1,b=3,c=7)"
   ]
  },
  {
   "cell_type": "code",
   "execution_count": 18,
   "metadata": {
    "ExecuteTime": {
     "end_time": "2018-12-13T01:12:52.400858Z",
     "start_time": "2018-12-13T01:12:52.394874Z"
    }
   },
   "outputs": [
    {
     "data": {
      "text/plain": [
       "{'a': 1, 'b': 3, 'c': 7}"
      ]
     },
     "execution_count": 18,
     "metadata": {},
     "output_type": "execute_result"
    }
   ],
   "source": [
    "k"
   ]
  },
  {
   "cell_type": "code",
   "execution_count": 23,
   "metadata": {
    "ExecuteTime": {
     "end_time": "2018-12-13T01:13:29.893316Z",
     "start_time": "2018-12-13T01:13:29.888332Z"
    }
   },
   "outputs": [
    {
     "data": {
      "text/plain": [
       "'c'"
      ]
     },
     "execution_count": 23,
     "metadata": {},
     "output_type": "execute_result"
    }
   ],
   "source": [
    "sorted(k,reverse=True)[0]"
   ]
  },
  {
   "cell_type": "code",
   "execution_count": 1,
   "metadata": {
    "ExecuteTime": {
     "end_time": "2018-12-16T04:22:24.989732Z",
     "start_time": "2018-12-16T04:22:24.984746Z"
    }
   },
   "outputs": [],
   "source": [
    "class Animal(object):\n",
    "    def __init__(self, name, legs):\n",
    "        self.name = name\n",
    "        self.legs = legs\n",
    "        self.stomach = []        \n",
    " \n",
    "    def __call__(self,food):\n",
    "        self.stomach.append(food)\n",
    " \n",
    "    def poop(self):\n",
    "        if len(self.stomach) > 0:\n",
    "            return self.stomach.pop(0)\n",
    " \n",
    "    def __str__(self):        \n",
    "        return 'A animal named %s' % (self.name)       \n",
    " \n",
    "cow = Animal('king', 4)  #We make a cow\n",
    "dog = Animal('flopp', 4) #We can make many animals"
   ]
  },
  {
   "cell_type": "code",
   "execution_count": 9,
   "metadata": {
    "ExecuteTime": {
     "end_time": "2018-12-16T04:24:14.214608Z",
     "start_time": "2018-12-16T04:24:14.209623Z"
    }
   },
   "outputs": [
    {
     "data": {
      "text/plain": [
       "<__main__.Animal at 0x237d9998ef0>"
      ]
     },
     "execution_count": 9,
     "metadata": {},
     "output_type": "execute_result"
    }
   ],
   "source": [
    "cow"
   ]
  },
  {
   "cell_type": "code",
   "execution_count": 18,
   "metadata": {
    "ExecuteTime": {
     "end_time": "2018-12-16T04:47:28.524093Z",
     "start_time": "2018-12-16T04:47:28.518859Z"
    }
   },
   "outputs": [
    {
     "name": "stdout",
     "output_type": "stream",
     "text": [
      "2\n",
      "2\n",
      "2\n",
      "3\n",
      "3\n"
     ]
    }
   ],
   "source": [
    "def get_no_of_instances(cls_obj):\n",
    "    return cls_obj.no_inst\n",
    "class Kls(object):\n",
    "    no_inst = 0\n",
    "    def __init__(self):\n",
    "        Kls.no_inst = Kls.no_inst + 1\n",
    "ik1 = Kls()\n",
    "ik2 = Kls()\n",
    "print(get_no_of_instances(ik1))\n",
    "print(get_no_of_instances(ik2))\n",
    "print(get_no_of_instances(Kls))\n",
    "ik3 = Kls()\n",
    "print(get_no_of_instances(ik3))\n",
    "print(get_no_of_instances(Kls))"
   ]
  },
  {
   "cell_type": "code",
   "execution_count": 19,
   "metadata": {
    "ExecuteTime": {
     "end_time": "2018-12-16T04:47:54.015406Z",
     "start_time": "2018-12-16T04:47:54.009380Z"
    }
   },
   "outputs": [
    {
     "name": "stdout",
     "output_type": "stream",
     "text": [
      "2\n",
      "3\n"
     ]
    }
   ],
   "source": [
    "def iget_no_of_instance(ins_obj):\n",
    "    return ins_obj.__class__.no_inst\n",
    "class Kls(object):\n",
    "    no_inst = 0\n",
    "    def __init__(self):\n",
    "        Kls.no_inst = Kls.no_inst + 1\n",
    "ik1 = Kls()\n",
    "ik2 = Kls()\n",
    "print (iget_no_of_instance(ik1))\n",
    "ik3= Kls()\n",
    "print (iget_no_of_instance(ik1))"
   ]
  },
  {
   "cell_type": "code",
   "execution_count": 16,
   "metadata": {
    "ExecuteTime": {
     "end_time": "2018-12-16T04:46:13.129965Z",
     "start_time": "2018-12-16T04:46:13.124217Z"
    }
   },
   "outputs": [
    {
     "name": "stdout",
     "output_type": "stream",
     "text": [
      "2\n",
      "2\n"
     ]
    }
   ],
   "source": [
    "class Kls(object):\n",
    "    no_inst = 0\n",
    "    def __init__(self):\n",
    "        Kls.no_inst = Kls.no_inst + 1\n",
    "    @classmethod\n",
    "    def get_no_of_instance(cls_obj):\n",
    "        return cls_obj.no_inst\n",
    "ik1 = Kls()\n",
    "ik2 = Kls()\n",
    "print (ik1.get_no_of_instance())\n",
    "print (Kls.get_no_of_instance())\n"
   ]
  },
  {
   "cell_type": "code",
   "execution_count": 8,
   "metadata": {
    "ExecuteTime": {
     "end_time": "2018-12-17T00:45:55.341337Z",
     "start_time": "2018-12-17T00:45:55.336349Z"
    }
   },
   "outputs": [
    {
     "name": "stdout",
     "output_type": "stream",
     "text": [
      "3\n"
     ]
    }
   ],
   "source": [
    "def test(fun,a,b,):\n",
    "    print(fun(a,b))\n",
    "    \n",
    "def add(a,b):\n",
    "    return a+b\n",
    "\n",
    "test(add,1,2)"
   ]
  },
  {
   "cell_type": "code",
   "execution_count": 3,
   "metadata": {
    "ExecuteTime": {
     "end_time": "2018-12-17T00:44:13.487743Z",
     "start_time": "2018-12-17T00:44:13.479766Z"
    }
   },
   "outputs": [
    {
     "data": {
      "text/plain": [
       "6"
      ]
     },
     "execution_count": 3,
     "metadata": {},
     "output_type": "execute_result"
    }
   ],
   "source": [
    "add(1,2,3)"
   ]
  },
  {
   "cell_type": "code",
   "execution_count": null,
   "metadata": {},
   "outputs": [],
   "source": []
  }
 ],
 "metadata": {
  "hide_input": false,
  "kernelspec": {
   "display_name": "Python 3",
   "language": "python",
   "name": "python3"
  },
  "language_info": {
   "codemirror_mode": {
    "name": "ipython",
    "version": 3
   },
   "file_extension": ".py",
   "mimetype": "text/x-python",
   "name": "python",
   "nbconvert_exporter": "python",
   "pygments_lexer": "ipython3",
   "version": "3.7.0"
  },
  "toc": {
   "base_numbering": 1,
   "nav_menu": {},
   "number_sections": true,
   "sideBar": true,
   "skip_h1_title": false,
   "title_cell": "Table of Contents",
   "title_sidebar": "Contents",
   "toc_cell": false,
   "toc_position": {},
   "toc_section_display": true,
   "toc_window_display": false
  },
  "varInspector": {
   "cols": {
    "lenName": 16,
    "lenType": 16,
    "lenVar": 40
   },
   "kernels_config": {
    "python": {
     "delete_cmd_postfix": "",
     "delete_cmd_prefix": "del ",
     "library": "var_list.py",
     "varRefreshCmd": "print(var_dic_list())"
    },
    "r": {
     "delete_cmd_postfix": ") ",
     "delete_cmd_prefix": "rm(",
     "library": "var_list.r",
     "varRefreshCmd": "cat(var_dic_list()) "
    }
   },
   "types_to_exclude": [
    "module",
    "function",
    "builtin_function_or_method",
    "instance",
    "_Feature"
   ],
   "window_display": false
  }
 },
 "nbformat": 4,
 "nbformat_minor": 2
}
