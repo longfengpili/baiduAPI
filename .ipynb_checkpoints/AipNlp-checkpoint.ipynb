{
 "cells": [
  {
   "cell_type": "markdown",
   "metadata": {},
   "source": [
    "[百度自然语言处理服务](https://ai.baidu.com/docs#/NLP-Python-SDK/top)"
   ]
  },
  {
   "cell_type": "code",
   "execution_count": 5,
   "metadata": {
    "ExecuteTime": {
     "end_time": "2018-11-30T01:07:18.513157Z",
     "start_time": "2018-11-30T01:07:18.505180Z"
    }
   },
   "outputs": [
    {
     "data": {
      "text/plain": [
       "<module 'mysetting' from '..\\\\mysetting.py'>"
      ]
     },
     "execution_count": 5,
     "metadata": {},
     "output_type": "execute_result"
    }
   ],
   "source": [
    "import sys\n",
    "from importlib import reload\n",
    "sys.path.append('..')\n",
    "import mysetting\n",
    "reload(mysetting)"
   ]
  },
  {
   "cell_type": "code",
   "execution_count": 6,
   "metadata": {
    "ExecuteTime": {
     "end_time": "2018-11-30T01:07:20.454607Z",
     "start_time": "2018-11-30T01:07:20.451611Z"
    }
   },
   "outputs": [],
   "source": [
    "App_Id = mysetting.voice_app_id\n",
    "API_Key = mysetting.voice_api_key\n",
    "Secret_Key = mysetting.voice_secret_key"
   ]
  },
  {
   "cell_type": "code",
   "execution_count": 7,
   "metadata": {
    "ExecuteTime": {
     "end_time": "2018-11-30T01:07:22.281205Z",
     "start_time": "2018-11-30T01:07:22.149444Z"
    }
   },
   "outputs": [],
   "source": [
    "from aip import AipNlp\n",
    "client = AipNlp(App_Id, API_Key, Secret_Key)"
   ]
  },
  {
   "cell_type": "markdown",
   "metadata": {},
   "source": [
    "# 词法分析"
   ]
  },
  {
   "cell_type": "code",
   "execution_count": 19,
   "metadata": {
    "ExecuteTime": {
     "end_time": "2018-11-30T00:48:15.184775Z",
     "start_time": "2018-11-30T00:48:14.975714Z"
    }
   },
   "outputs": [
    {
     "data": {
      "text/plain": [
       "' 调用词法分析 '"
      ]
     },
     "execution_count": 19,
     "metadata": {},
     "output_type": "execute_result"
    },
    {
     "data": {
      "text/plain": [
       "['百度', '是', '一家', '高科技', '公司']"
      ]
     },
     "execution_count": 19,
     "metadata": {},
     "output_type": "execute_result"
    }
   ],
   "source": [
    "text = \"百度是一家高科技公司\"\n",
    "\n",
    "\"\"\" 调用词法分析 \"\"\"\n",
    "words = client.lexer(text)\n",
    "[i['item'] for i in words['items']]"
   ]
  },
  {
   "cell_type": "code",
   "execution_count": 20,
   "metadata": {
    "ExecuteTime": {
     "end_time": "2018-11-30T00:48:19.596254Z",
     "start_time": "2018-11-30T00:48:19.584243Z"
    }
   },
   "outputs": [],
   "source": [
    "file = './泼辣小厨娘.txt'\n",
    "with open(file,'r',encoding='utf-8') as f:\n",
    "    note = f.read()"
   ]
  },
  {
   "cell_type": "code",
   "execution_count": 34,
   "metadata": {
    "ExecuteTime": {
     "end_time": "2018-11-30T00:51:44.766050Z",
     "start_time": "2018-11-30T00:51:44.761282Z"
    }
   },
   "outputs": [
    {
     "data": {
      "text/plain": [
       "'养市秦岭山脉深处的黑水县草甸子镇，虽然叫镇，但其实就是个大一点的村子，镇上的集市，也就一横一竖两条街而已。\\n\\n    镇里逢双开集，四里八乡的村民便绕山路而来，勉强能让这里稍微热闹一些。\\n\\n    镇子后面紧挨着一座小溪，和镇子一样，虽然也叫溪，但最浅的地方只能到脚面而已。\\n\\n    此时正值盛夏，太阳正毒，小溪旁，两个十七八岁的女孩带着一个十一二岁的女孩正蹲坐在溪水边嬉闹……\\n\\n    “石小小，我觉得你妈给你起的这名字有问题啊……”\\n\\n    “怎么有问题？”\\n\\n    “你瞧你，咱都是九年义务教育，你发育的怎么这么优秀？我严重怀疑你的腰就是被它们给拽弯的……”\\n\\n    说话的叫马天瑶，皮肤略黑，这是山里女孩的特色，但她的闺蜜石小小却完全相反，不但皮肤白皙有弹性，而且发育完全超标，胸比头大。\\n\\n    看了看石小小的，再看看自己的，马天瑶撅着嘴继续调侃。\\n\\n    “我觉得你应该叫石大大，或者叫石巨大！”\\n\\n    最右边马天瑶的妹妹马天柔大概十一二岁，刚小学毕业，调皮可爱，此刻也看了看自己的，呲着小虎牙跟着姐姐严肃的点点头附和。\\n\\n    “姐，你说的太对了，不过我觉得她应该叫石爆炸……”\\n\\n    石小小一点也不生气，反而得意的挺了挺胸，看了看四周，哼了一声，接着走下了小溪。\\n\\n    马天瑶抿嘴笑了笑，看向妹妹。\\n\\n    “天柔，走，咱俩欺负她去！。”\\n\\n    妹妹马天柔还没开口，水里的石小小捧起水先给姐妹两人浇了个透心凉心飞扬，哈哈大笑的调侃道。\\n\\n    “马天瑶，你这个学渣赶紧下来啊！”\\n\\n    “切，说的你好像不是学渣一样，敢泼我水，我看你是皮痒了！小娘子，别跑！”\\n\\n    “哈哈……”\\n\\n    马天瑶跳下去，妹妹笑着也跟着下去，随后三人光脚在水里玩闹起来。\\n\\n    “喂喂喂，咱俩比赛憋气怎么样？谁输了谁就请吃中午饭？”\\n\\n    “好啊，谁怕谁，为了中午饭我能憋死自己你信不信？”\\n\\n    石小小提议，马天瑶跟着附议，马天柔笑着举手。\\n\\n    “那我来当裁判！预备！开始！”\\n\\n    马天柔笑着喊出开始，两女立刻捏着鼻子开始在水里憋气！\\n\\n    山里的孩子最基本的技能就是游泳，憋气只是小儿科，但，是人就有极限，所以等马天柔数到45'"
      ]
     },
     "execution_count": 34,
     "metadata": {},
     "output_type": "execute_result"
    }
   ],
   "source": [
    "note_ = note[50:1000]\n",
    "note_"
   ]
  },
  {
   "cell_type": "code",
   "execution_count": 35,
   "metadata": {
    "ExecuteTime": {
     "end_time": "2018-11-30T00:51:47.424439Z",
     "start_time": "2018-11-30T00:51:46.905296Z"
    }
   },
   "outputs": [
    {
     "data": {
      "text/plain": [
       "['\\n\\n    ', '\\n\\n    ', '石爆炸', '石小小', '小娘子', '\\n\\n    ']"
      ]
     },
     "execution_count": 35,
     "metadata": {},
     "output_type": "execute_result"
    }
   ],
   "source": [
    "words = client.lexer(note_)\n",
    "[i['item'] for i in words['items'] if i['pos'] == 'nr']"
   ]
  },
  {
   "cell_type": "code",
   "execution_count": 36,
   "metadata": {
    "ExecuteTime": {
     "end_time": "2018-11-30T00:57:09.293773Z",
     "start_time": "2018-11-30T00:57:08.788129Z"
    }
   },
   "outputs": [
    {
     "data": {
      "text/plain": [
       "' 调用对话情绪识别接口 '"
      ]
     },
     "execution_count": 36,
     "metadata": {},
     "output_type": "execute_result"
    },
    {
     "data": {
      "text/plain": [
       "{'log_id': 2353646998444775614,\n",
       " 'text': '本来今天高高兴兴',\n",
       " 'items': [{'prob': 0.501008, 'label': 'optimistic'},\n",
       "  {'prob': 0.49872, 'label': 'neutral'},\n",
       "  {'prob': 0.000272128, 'label': 'pessimistic'}]}"
      ]
     },
     "execution_count": 36,
     "metadata": {},
     "output_type": "execute_result"
    },
    {
     "data": {
      "text/plain": [
       "' 如果有可选参数 '"
      ]
     },
     "execution_count": 36,
     "metadata": {},
     "output_type": "execute_result"
    },
    {
     "data": {
      "text/plain": [
       "' 带参数调用对话情绪识别接口 '"
      ]
     },
     "execution_count": 36,
     "metadata": {},
     "output_type": "execute_result"
    },
    {
     "data": {
      "text/plain": [
       "{'log_id': 5741925114229726654,\n",
       " 'text': '本来今天高高兴兴',\n",
       " 'items': [{'prob': 0.501008, 'label': 'optimistic'},\n",
       "  {'prob': 0.49872, 'label': 'neutral'},\n",
       "  {'prob': 0.000272128, 'label': 'pessimistic'}]}"
      ]
     },
     "execution_count": 36,
     "metadata": {},
     "output_type": "execute_result"
    }
   ],
   "source": [
    "text = \"本来今天高高兴兴\"\n",
    "\n",
    "\"\"\" 调用对话情绪识别接口 \"\"\"\n",
    "client.emotion(text)\n",
    "\n",
    "\"\"\" 如果有可选参数 \"\"\"\n",
    "options = {}\n",
    "options[\"scene\"] = \"talk\"\n",
    "\n",
    "\"\"\" 带参数调用对话情绪识别接口 \"\"\"\n",
    "client.emotion(text, options)\n"
   ]
  },
  {
   "cell_type": "code",
   "execution_count": 38,
   "metadata": {
    "ExecuteTime": {
     "end_time": "2018-11-30T00:59:11.809523Z",
     "start_time": "2018-11-30T00:59:11.086969Z"
    }
   },
   "outputs": [
    {
     "data": {
      "text/plain": [
       "' 调用评论观点抽取 '"
      ]
     },
     "execution_count": 38,
     "metadata": {},
     "output_type": "execute_result"
    },
    {
     "data": {
      "text/plain": [
       "{'log_id': 3639991722053884926, 'error_code': 282130, 'error_msg': 'no result'}"
      ]
     },
     "execution_count": 38,
     "metadata": {},
     "output_type": "execute_result"
    },
    {
     "data": {
      "text/plain": [
       "' 如果有可选参数 '"
      ]
     },
     "execution_count": 38,
     "metadata": {},
     "output_type": "execute_result"
    },
    {
     "data": {
      "text/plain": [
       "' 带参数调用评论观点抽取 '"
      ]
     },
     "execution_count": 38,
     "metadata": {},
     "output_type": "execute_result"
    },
    {
     "data": {
      "text/plain": [
       "{'log_id': 397028567154290334,\n",
       " 'items': [{'sentiment': 0,\n",
       "   'abstract': '三星电脑<span>电池不给力</span>',\n",
       "   'prop': '电池',\n",
       "   'begin_pos': 8,\n",
       "   'end_pos': 18,\n",
       "   'adj': '不给力'}]}"
      ]
     },
     "execution_count": 38,
     "metadata": {},
     "output_type": "execute_result"
    }
   ],
   "source": [
    "text = \"三星电脑电池不给力\"\n",
    "\n",
    "\"\"\" 调用评论观点抽取 \"\"\"\n",
    "client.commentTag(text)\n",
    "\n",
    "\"\"\" 如果有可选参数 \"\"\"\n",
    "options = {}\n",
    "options[\"type\"] = 13\n",
    "\n",
    "\"\"\" 带参数调用评论观点抽取 \"\"\"\n",
    "client.commentTag(text, options)\n"
   ]
  },
  {
   "cell_type": "markdown",
   "metadata": {},
   "source": [
    "=============================泼辣小厨娘=========================================="
   ]
  },
  {
   "cell_type": "code",
   "execution_count": 2,
   "metadata": {
    "ExecuteTime": {
     "end_time": "2018-12-07T01:39:41.810935Z",
     "start_time": "2018-12-07T01:39:41.663305Z"
    }
   },
   "outputs": [
    {
     "data": {
      "text/plain": [
       "<module 'mysetting' from '..\\\\mysetting.py'>"
      ]
     },
     "execution_count": 2,
     "metadata": {},
     "output_type": "execute_result"
    }
   ],
   "source": [
    "import sys\n",
    "from importlib import reload\n",
    "sys.path.append('..')\n",
    "import mysetting\n",
    "reload(mysetting)\n",
    "\n",
    "App_Id = mysetting.voice_app_id\n",
    "API_Key = mysetting.voice_api_key\n",
    "Secret_Key = mysetting.voice_secret_key\n",
    "\n",
    "from aip import AipNlp\n",
    "client = AipNlp(App_Id, API_Key, Secret_Key)"
   ]
  },
  {
   "cell_type": "code",
   "execution_count": 3,
   "metadata": {
    "ExecuteTime": {
     "end_time": "2018-12-07T01:39:43.286965Z",
     "start_time": "2018-12-07T01:39:43.225129Z"
    }
   },
   "outputs": [
    {
     "data": {
      "text/plain": [
       "['\\n|------------\\n|\\n|正文卷\\n|\\n|\\n|------------\\n|\\n|第一章 人工呼吸\\n|\\n',\n",
       " '    仙养市秦岭山脉深处的黑水县草甸子镇，虽然叫镇，但其实就是个大一点的村子，镇上的集市，也就一横一竖两条街而已。\\n|\\n|    镇里逢双开集，四里八乡的村民便绕山路而来，勉强能让这里稍微热闹一些。\\n|\\n|    镇子后面紧挨着一座小溪，和镇子一样，虽然也叫溪，但最浅的地方只能到脚面而已。\\n|\\n|    此时正值盛夏，太阳正毒，小溪旁，两个十七八岁的女孩带着一个十一二岁的女孩正蹲坐在溪水边嬉闹……\\n|\\n|    “石小小，我觉得你妈给你起的这名字有问题啊……”\\n|\\n',\n",
       " '    “怎么有问题？”\\n|\\n|    “你瞧你，咱都是九年义务教育，你发育的怎么这么优秀？我严重怀疑你的腰就是被它们给拽弯的……”\\n|\\n|    说话的叫马天瑶，皮肤略黑，这是山里女孩的特色，但她的闺蜜石小小却完全相反，不但皮肤白皙有弹性，而且发育完全超标，胸比头大。\\n|\\n|    看了看石小小的，再看看自己的，马天瑶撅着嘴继续调侃。\\n|\\n|    “我觉得你应该叫石大大，或者叫石巨大！”\\n|\\n',\n",
       " '    最右边马天瑶的妹妹马天柔大概十一二岁，刚小学毕业，调皮可爱，此刻也看了看自己的，呲着小虎牙跟着姐姐严肃的点点头附和。\\n|\\n|    “姐，你说的太对了，不过我觉得她应该叫石爆炸……”\\n|\\n|    石小小一点也不生气，反而得意的挺了挺胸，看了看四周，哼了一声，接着走下了小溪。\\n|\\n|    马天瑶抿嘴笑了笑，看向妹妹。\\n|\\n|    “天柔，走，咱俩欺负她去！。”\\n|\\n',\n",
       " '    妹妹马天柔还没开口，水里的石小小捧起水先给姐妹两人浇了个透心凉心飞扬，哈哈大笑的调侃道。\\n|\\n|    “马天瑶，你这个学渣赶紧下来啊！”\\n|\\n|    “切，说的你好像不是学渣一样，敢泼我水，我看你是皮痒了！小娘子，别跑！”\\n|\\n|    “哈哈……”\\n|\\n|    马天瑶跳下去，妹妹笑着也跟着下去，随后三人光脚在水里玩闹起来。\\n|\\n',\n",
       " '    “喂喂喂，咱俩比赛憋气怎么样？谁输了谁就请吃中午饭？”\\n|\\n|    “好啊，谁怕谁，为了中午饭我能憋死自己你信不信？”\\n|\\n|    石小小提议，马天瑶跟着附议，马天柔笑着举手。\\n|\\n|    “那我来当裁判！预备！开始！”\\n|\\n|    马天柔笑着喊出开始，两女立刻捏着鼻子开始在水里憋气！\\n|\\n',\n",
       " '    山里的孩子最基本的技能就是游泳，憋气只是小儿科，但，是人就有极限，所以等马天柔数到45秒后，石小小先从水里喘着气出来了。\\n|\\n|    “呼……呼……哎呀，憋死我了，行了行了，我认输……谁让我胸大浮力大呢……我先上去打个电话给咱们定个豪华大包间，今天晚上好好搓一顿！”\\n|\\n|    石小小抹了把脸上的水珠又挺了挺胸，骄傲的笑了笑，光脚走到岸上打电话去了。\\n|\\n|    马天柔甜甜的笑笑，她知道，石小小也是河边长大的孩子，再憋个10来秒一点问题都没有，提前认输，完全是故意找借口请她姐妹二人吃饭罢了。\\n|\\n|    毕竟她和姐姐从小就没了父母，家里日子过的比黄连还苦，这几年姐妹年纪稍微大点还好了，前些年两人经常连饭都吃不上，全靠村里人和闺蜜石小小接济勉强糊口。\\n|\\n',\n",
       " '    所以她打心里感谢石小小，早就把她当成第二个姐姐了，但她更感谢自己的亲姐姐，姐姐虽然只比自己大了三四岁，但从小就格外要强。\\n|\\n|    不是饿的实在没办法，姐姐从不会接受任何人的救济，家里三亩地，她亲眼见过姐姐在滂沱大雨里抢收玉米，在40度高温下收割小麦，为了地里的菜卖个好价钱，姐姐经常会背着几十斤重的菜篓走上几十里山路……\\n|\\n|    姐姐从小就没考过前三名以下，可高考成绩却名落孙山，她知道，姐姐是故意没考上大学的，因为考上也念不起，家里的钱都是从土里刨出来的，就她上初中的学费，还是姐姐卖粮食卖菜辛苦攒下的。\\n|\\n|    “天柔，数到多少了？”\\n|\\n|    “啊？”\\n|\\n',\n",
       " '    石小小打完电话，走过来问了一句，马天柔这才被惊醒过来，连忙接着数。\\n|\\n|    “664、665、666……666？十分钟了？”\\n|\\n|    马天柔觉得事情有些不对，看向还在水里憋气的姐姐，她在怀疑是自己数错了还是真过了十分钟，试探性的拽了拽，结果却看到了姐姐惨白的脸。\\n|\\n|    “姐！！！”\\n|\\n|    “天瑶！！！”\\n|\\n',\n",
       " '    这一下两女都急了，慌忙将马天瑶拖到溪边岸上，摸了摸鼻息，石小小后怕的拍了拍小心脏。\\n|\\n|    “呼，还好还好，还有呼吸，我觉得还能抢救抢救，应该只是晕过去，我说你刚才怎么不看着你姐啊？真是疯子，不就一顿饭么，还真要把自己憋死啊……”\\n|\\n|    “我……”\\n|\\n|    马天柔都快急哭了，石小小摆摆手，捏着下巴看了看地上的马天瑶思考起来，随后开口吩咐道。\\n|\\n|    “稳住，我们能赢！不过……像这种情况我觉得……先得给你姐清洗一下，然后换一身干净衣服，再把她抬到我家去，开着空调，盖上被子……”\\n|\\n']"
      ]
     },
     "execution_count": 3,
     "metadata": {},
     "output_type": "execute_result"
    }
   ],
   "source": [
    "file = './泼辣小厨娘.txt'\n",
    "with open(file,'r',encoding='utf-8') as f:\n",
    "    note = f.readlines()\n",
    "    \n",
    "note_chunks_1 = [note[i*10:(i+1)*10] for i in range(int(len(note)/5))]\n",
    "note_chunks_2 = ['|'.join(i) for i in note_chunks_1]\n",
    "note_chunks_3 = [note_chunks_2[i*10:(i+1)*10] for i in range(int(len(note_chunks_2)/5))]\n",
    "note_chunks_3[0]"
   ]
  },
  {
   "cell_type": "code",
   "execution_count": null,
   "metadata": {
    "ExecuteTime": {
     "start_time": "2018-12-07T01:39:45.310Z"
    },
    "scrolled": false
   },
   "outputs": [
    {
     "name": "stdout",
     "output_type": "stream",
     "text": [
      "累计用时18,not_row{'row': 100, 'str_num': 1423}\n",
      "[('石爆炸', 1), ('天瑶', 1), ('甜甜', 1), ('黄连', 1), ('小娘子', 1), ('石小小', 3), ('石', 4)]\n",
      "累计用时39,not_row{'row': 200, 'str_num': 2301}\n",
      "[('石爆炸', 1), ('天瑶', 1), ('甜甜', 1), ('黄连', 1), ('小娘子', 1), ('小小姐', 1), ('笑笑', 1), ('马天瑶', 2), ('叮', 2), ('石小小', 3), ('石', 5)]\n"
     ]
    }
   ],
   "source": [
    "import threading\n",
    "import random\n",
    "import time\n",
    "from datetime import datetime\n",
    "\n",
    "lock = threading.Lock()\n",
    "\n",
    "def str_count(str):\n",
    "    str_num = 0\n",
    "    for s in str:\n",
    "        # 中文字符范围\n",
    "        if '\\u4e00' <= s <= '\\u9fff':\n",
    "            str_num += 1\n",
    "    return str_num\n",
    "\n",
    "def text_strip(textlist):\n",
    "    new_textlist = []\n",
    "    for i in textlist:\n",
    "        if i.strip():\n",
    "            new_textlist.append(i)\n",
    "    return new_textlist\n",
    "\n",
    "def find_names(text):\n",
    "    global name\n",
    "#     print(f'text:{text}')\n",
    "    \n",
    "    try:\n",
    "        with lock:\n",
    "            time.sleep(random.random()*3)\n",
    "            words = client.lexer(text)\n",
    "\n",
    "        if 'items' in words:\n",
    "            names = [i['item'].strip() for i in words['items'] if i['pos'] == 'nr' if i['item'].strip()]\n",
    "            if names:\n",
    "#                 print(f'names:{names}')\n",
    "                pass\n",
    "        \n",
    "        for i in names:\n",
    "            with lock:\n",
    "                name[i] = name.get(i,0)\n",
    "                name[i] += 1\n",
    "    except Exception as e:\n",
    "        print(e)\n",
    "        print(text)\n",
    "        \n",
    "\n",
    "\n",
    "\n",
    "name = {}\n",
    "row = 20\n",
    "st = datetime.now()\n",
    "note_row = {'row':0,'str_num':0}\n",
    "for note_chunk in note_chunks_3:\n",
    "    note_chunk = text_strip(note_chunk)\n",
    "    treadlist = []\n",
    "    \n",
    "    for i in note_chunk:\n",
    "        str_num = str_count(i)\n",
    "        rows = len(i.split('|'))\n",
    "        note_row['row'] += rows\n",
    "        note_row['str_num'] += str_num\n",
    "        t = threading.Thread(target=find_names,args=(i,))\n",
    "        treadlist.append(t)\n",
    "\n",
    "    for t in treadlist:\n",
    "        t.start()\n",
    "#         t.join()\n",
    "\n",
    "    for t in treadlist:\n",
    "        t.join()\n",
    "\n",
    "    if note_row['row'] >= row:\n",
    "        et = datetime.now()\n",
    "        interval = (et - st).seconds\n",
    "        print(f'累计用时{interval},not_row{note_row}')\n",
    "        print(sorted(name.items(), key=lambda kv: kv[1],reverse=True))\n",
    "        row += 20\n",
    "        "
   ]
  },
  {
   "cell_type": "code",
   "execution_count": 4,
   "metadata": {
    "ExecuteTime": {
     "end_time": "2018-12-05T01:37:28.554852Z",
     "start_time": "2018-12-05T01:37:28.547869Z"
    }
   },
   "outputs": [
    {
     "data": {
      "text/plain": [
       "35448"
      ]
     },
     "execution_count": 4,
     "metadata": {},
     "output_type": "execute_result"
    }
   ],
   "source": [
    "len(note)"
   ]
  },
  {
   "cell_type": "code",
   "execution_count": null,
   "metadata": {},
   "outputs": [],
   "source": []
  }
 ],
 "metadata": {
  "hide_input": false,
  "kernelspec": {
   "display_name": "Python 3",
   "language": "python",
   "name": "python3"
  },
  "language_info": {
   "codemirror_mode": {
    "name": "ipython",
    "version": 3
   },
   "file_extension": ".py",
   "mimetype": "text/x-python",
   "name": "python",
   "nbconvert_exporter": "python",
   "pygments_lexer": "ipython3",
   "version": "3.7.0"
  },
  "toc": {
   "base_numbering": 1,
   "nav_menu": {},
   "number_sections": true,
   "sideBar": true,
   "skip_h1_title": false,
   "title_cell": "Table of Contents",
   "title_sidebar": "Contents",
   "toc_cell": false,
   "toc_position": {},
   "toc_section_display": true,
   "toc_window_display": false
  },
  "varInspector": {
   "cols": {
    "lenName": 16,
    "lenType": 16,
    "lenVar": 40
   },
   "kernels_config": {
    "python": {
     "delete_cmd_postfix": "",
     "delete_cmd_prefix": "del ",
     "library": "var_list.py",
     "varRefreshCmd": "print(var_dic_list())"
    },
    "r": {
     "delete_cmd_postfix": ") ",
     "delete_cmd_prefix": "rm(",
     "library": "var_list.r",
     "varRefreshCmd": "cat(var_dic_list()) "
    }
   },
   "position": {
    "height": "670px",
    "left": "1545px",
    "right": "20px",
    "top": "120px",
    "width": "355px"
   },
   "types_to_exclude": [
    "module",
    "function",
    "builtin_function_or_method",
    "instance",
    "_Feature"
   ],
   "window_display": false
  }
 },
 "nbformat": 4,
 "nbformat_minor": 2
}
